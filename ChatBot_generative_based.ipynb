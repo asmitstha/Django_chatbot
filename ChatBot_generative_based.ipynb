{
 "cells": [
  {
   "cell_type": "markdown",
   "metadata": {},
   "source": [
    "Name: Asmit Shrestha\n",
    "\n",
    "Roll: 1928433\n",
    "\n",
    "project name: Generative chatbot"
   ]
  },
  {
   "cell_type": "markdown",
   "metadata": {},
   "source": [
    "**1) Importing the packages**\n",
    "\n",
    "\n",
    "Importing TensorFlow and Keras. Also,imported other modules which help in defining model layers."
   ]
  },
  {
   "cell_type": "code",
   "execution_count": 2,
   "metadata": {},
   "outputs": [
    {
     "name": "stderr",
     "output_type": "stream",
     "text": [
      "Using TensorFlow backend.\n"
     ]
    }
   ],
   "source": [
    "import numpy as np\n",
    "import tensorflow as tf\n",
    "from tensorflow.keras import layers, activations, models, preprocessing\n",
    "from keras.callbacks import ModelCheckpoint\n",
    "from keras.preprocessing.text import Tokenizer\n",
    "from tensorflow.keras import preprocessing, utils\n",
    "from keras.regularizers import l1\n",
    "import os, sys\n",
    "import yaml\n",
    "import re\n",
    "import string"
   ]
  },
  {
   "cell_type": "markdown",
   "metadata": {},
   "source": [
    "**2) Preprocessing the data**\n",
    "\n",
    "**A) Downloading the dataset**\n",
    "\n",
    "The dataset is downloaded from https://www.kaggle.com/kausr25/chatterbotenglishchatterbot/english on Kaggle.com. It contains pairs of questions and answers based on a number of subjects like food, history, AI etc."
   ]
  },
  {
   "cell_type": "markdown",
   "metadata": {},
   "source": [
    "**B) Reading the data from the files**\n",
    "\n",
    "Here I parse each of the .yaml files.\n",
    "\n",
    "-Concatenate two or more sentences if the answer has two or more of them.\n",
    "\n",
    "-Remove unwanted data types which are produced while parsing the data.\n",
    "\n",
    "-Append <START> and <END> to all the answers.\n",
    "    \n",
    "-Create a Tokenizer and load the whole vocabulary ( questions + answers ) into it."
   ]
  },
  {
   "cell_type": "code",
   "execution_count": 2,
   "metadata": {},
   "outputs": [],
   "source": [
    "dir_path = r'data'\n",
    "files_list = os.listdir(dir_path + os.sep)\n",
    "\n",
    "questions = list()\n",
    "answers = list()\n",
    "\n",
    "for filepath in files_list:\n",
    "    stream = open( dir_path + os.sep + filepath , 'rb')\n",
    "    docs = yaml.safe_load(stream)\n",
    "    conversations = docs['conversations']\n",
    "    for con in conversations:\n",
    "        if len( con ) > 2 :\n",
    "            questions.append(con[0])\n",
    "            replies = con[ 1 : ]\n",
    "            ans = ''\n",
    "            for rep in replies:\n",
    "                ans += ' ' + rep\n",
    "            answers.append( ans )\n",
    "        elif len( con )> 1:\n",
    "            questions.append(con[0])\n",
    "            answers.append(con[1])\n",
    "\n",
    "answers_with_tags = list()\n",
    "for i in range( len( answers ) ):\n",
    "    if type( answers[i] ) == str:\n",
    "        answers_with_tags.append( answers[i] )\n",
    "    else:\n",
    "        questions.pop( i )\n",
    "\n",
    "answers = list()\n",
    "for i in range( len( answers_with_tags ) ) :\n",
    "    answers.append( '<START> ' + answers_with_tags[i] + ' <END>' )\n",
    "\n",
    "\n",
    "\n"
   ]
  },
  {
   "cell_type": "code",
   "execution_count": 3,
   "metadata": {},
   "outputs": [
    {
     "name": "stdout",
     "output_type": "stream",
     "text": [
      "VOCAB SIZE : 2456\n"
     ]
    }
   ],
   "source": [
    "\n",
    "tokenizer = preprocessing.text.Tokenizer()\n",
    "tokenizer.fit_on_texts( questions + answers )\n",
    "VOCAB_SIZE = len( tokenizer.word_index )+1\n",
    "print( 'VOCAB SIZE : {}'.format( VOCAB_SIZE ))\n"
   ]
  },
  {
   "cell_type": "code",
   "execution_count": 4,
   "metadata": {},
   "outputs": [
    {
     "data": {
      "text/plain": [
       "2"
      ]
     },
     "execution_count": 4,
     "metadata": {},
     "output_type": "execute_result"
    }
   ],
   "source": [
    "\n",
    "vocab = []\n",
    "for word in tokenizer.word_index:\n",
    "    vocab.append( word )\n",
    "\n",
    "def tokenize( sentences ):\n",
    "    tokens_list = []\n",
    "    vocabulary = []\n",
    "    for sentence in sentences:\n",
    "        sentence = str(sentence).lower()\n",
    "        sentence = re.sub( '[^a-zA-Z]', ' ', sentence )\n",
    "        result = sentence.translate(str.maketrans(\"\",\"\", string.punctuation))\n",
    "        tokens = result.split()\n",
    "        vocabulary += tokens\n",
    "        tokens_list.append( tokens )\n",
    "    return tokens_list , vocabulary\n",
    "\n",
    "p = tokenize( questions + answers )\n",
    "len(p)\n",
    "\n"
   ]
  },
  {
   "cell_type": "markdown",
   "metadata": {},
   "source": [
    "**C) Preparing data for Seq2Seq model**\n",
    "\n",
    "\n",
    "\n",
    "This model requires three arrays namely e_input, d_input and d_output.\n",
    "\n",
    "For e_input :\n",
    "- Tokenize the questions. Pad them to their maximum length.\n",
    "\n",
    "For d_input :\n",
    "- Tokenize the answers. Pad them to their maximum length.\n",
    "\n",
    "For d_output :\n",
    "- Tokenize the answers. Remove the first element from all the tokenized_answers. This is the <START> element which we added earlier."
   ]
  },
  {
   "cell_type": "code",
   "execution_count": 5,
   "metadata": {},
   "outputs": [],
   "source": [
    "# e_input\n",
    "tokenized_questions = tokenizer.texts_to_sequences(questions)  # Transform each question in a sequence of integers.\n",
    "maxlen_questions = max([len(x) for x in tokenized_questions])  # question with maximum length i.e is 50\n",
    "padded_questions = preprocessing.sequence.pad_sequences(tokenized_questions, maxlen=maxlen_questions,\n",
    "                                                            padding='post') \n",
    "# ensure that all sequences in a list have the same length\n",
    "e_input = np.array(padded_questions)  # create array\n",
    "\n",
    "    # d_input\n",
    "tokenized_answers = tokenizer.texts_to_sequences(answers)  # Transform each text in texts in a sequence of integers.\n",
    "maxlen_answers = max([len(x) for x in tokenized_answers])  # answer with maximum length i.e is 74\n",
    "padded_answers = preprocessing.sequence.pad_sequences(tokenized_answers, maxlen=maxlen_answers,\n",
    "                                                          padding='post')  \n",
    "# ensure that all sequences in a list have the same length\n",
    "d_input = np.array(padded_answers)  # create array\n",
    "\n",
    "# d_output: Tokenize the answers. Remove the first element from all the tokenized_answers.\n",
    "# This is the <START> element which we added earlier.\n",
    "tokenized_answers = tokenizer.texts_to_sequences(answers)  # Transform each text in texts in a sequence of integers.\n",
    "for i in range(len(tokenized_answers)):\n",
    "    tokenized_answers[i] = tokenized_answers[i][1:]  # remove first element form all the tokenized_answers.\n",
    "\n",
    "padded_answers = preprocessing.sequence.pad_sequences(tokenized_answers, maxlen=maxlen_answers,\n",
    "                                                          padding='post')  \n",
    "# ensure that all sequences in a list have the same length\n",
    "onehot_answers = utils.to_categorical(padded_answers,\n",
    "                                          VOCAB_SIZE)  # Converts a class vector (integers) to binary class matrix.\n",
    "d_output = np.array(onehot_answers)  # create array of onehot_answers"
   ]
  },
  {
   "cell_type": "markdown",
   "metadata": {},
   "source": [
    "3) Defining the Encoder-Decoder model\n",
    "\n",
    "The model will have Embedding, LSTM and Dense layers. The basic configuration is as follows.\n",
    "\n",
    "- 2 Input Layers : One for e_input and another for d_input.\n",
    "\n",
    "- Embedding layer : For converting token vectors to fix sized dense vectors. \n",
    "\n",
    "- LSTM layer : Provide access to Long-Short Term cells.\n",
    "\n",
    "Working :\n",
    "\n",
    "- The e_input comes in the Embedding layer ( encoder_embedding ).\n",
    "\n",
    "- The output of the Embedding layer goes to the LSTM cell which produces 2 state vectors ( h and c which are encoder_states )\n",
    "\n",
    "- These states are set in the LSTM cell of the decoder.\n",
    "\n",
    "- The d_input comes in through the Embedding layer.\n",
    "\n",
    "- The Embeddings goes in LSTM cell ( which had the states ) to produce seqeunces.\n"
   ]
  },
  {
   "cell_type": "code",
   "execution_count": 6,
   "metadata": {},
   "outputs": [],
   "source": [
    "encoder_inputs = tf.keras.layers.Input(shape=(None,))  # Input() is used to instantiate a Keras tensor\n",
    "encoder_embedding = tf.keras.layers.Embedding(VOCAB_SIZE, 300, mask_zero=True)(encoder_inputs)  \n",
    "# Turns positive integers (indexes) into dense vectors of fixed size\n",
    "encoder_outputs, state_h, state_c = tf.keras.layers.LSTM(300, return_state=True)(encoder_embedding)\n",
    "encoder_states = [state_h, state_c]\n",
    "\n",
    "decoder_inputs = tf.keras.layers.Input(shape=(None,))\n",
    "decoder_embedding = tf.keras.layers.Embedding(VOCAB_SIZE, 300, mask_zero=True)(decoder_inputs)\n",
    "decoder_lstm = tf.keras.layers.LSTM(300,activity_regularizer=l1(0.001), return_state=True, return_sequences=True)\n",
    "decoder_outputs, _, _ = decoder_lstm(decoder_embedding, initial_state=encoder_states)\n",
    "decoder_dense = tf.keras.layers.Dense(VOCAB_SIZE, activation=tf.keras.activations.softmax)\n",
    "output = decoder_dense(decoder_outputs)\n",
    "\n",
    "model = tf.keras.models.Model([encoder_inputs, decoder_inputs], output)\n",
    "model.compile(optimizer=tf.keras.optimizers.RMSprop(lr=0.01), loss='categorical_crossentropy', metrics=['accuracy'])\n"
   ]
  },
  {
   "cell_type": "markdown",
   "metadata": {},
   "source": [
    "**categorical_crossentropy**\n",
    "\n",
    "Categorical crossentropy is a loss function that is used for single label categorization. This is when only one category is applicable for each data point. In other words, an example can belong to one class only. \n",
    "\n",
    "The block before the Target block must use the activation function ​Softmax.\n",
    "\n",
    "**Regularizers**\n",
    "\n",
    "Regularizers allow to apply penalties on layer parameters or layer activity during optimization. These penalties are incorporated in the loss function that the network optimizes."
   ]
  },
  {
   "cell_type": "code",
   "execution_count": 7,
   "metadata": {},
   "outputs": [
    {
     "name": "stdout",
     "output_type": "stream",
     "text": [
      "Model: \"model\"\n",
      "__________________________________________________________________________________________________\n",
      "Layer (type)                    Output Shape         Param #     Connected to                     \n",
      "==================================================================================================\n",
      "input_1 (InputLayer)            [(None, None)]       0                                            \n",
      "__________________________________________________________________________________________________\n",
      "input_2 (InputLayer)            [(None, None)]       0                                            \n",
      "__________________________________________________________________________________________________\n",
      "embedding (Embedding)           (None, None, 300)    735900      input_1[0][0]                    \n",
      "__________________________________________________________________________________________________\n",
      "embedding_1 (Embedding)         (None, None, 300)    735900      input_2[0][0]                    \n",
      "__________________________________________________________________________________________________\n",
      "lstm (LSTM)                     [(None, 300), (None, 721200      embedding[0][0]                  \n",
      "__________________________________________________________________________________________________\n",
      "lstm_1 (LSTM)                   [(None, None, 300),  721200      embedding_1[0][0]                \n",
      "                                                                 lstm[0][1]                       \n",
      "                                                                 lstm[0][2]                       \n",
      "__________________________________________________________________________________________________\n",
      "dense (Dense)                   (None, None, 2453)   738353      lstm_1[0][0]                     \n",
      "==================================================================================================\n",
      "Total params: 3,652,553\n",
      "Trainable params: 3,652,553\n",
      "Non-trainable params: 0\n",
      "__________________________________________________________________________________________________\n"
     ]
    }
   ],
   "source": [
    "model.summary()"
   ]
  },
  {
   "cell_type": "code",
   "execution_count": 8,
   "metadata": {},
   "outputs": [],
   "source": [
    "checkpoint_path = \"model/cp.ckpt\"\n",
    "checkpoint_dir = os.path.dirname(checkpoint_path)\n",
    "\n",
    "    # Create a callback that saves the model's weights\n",
    "cp_callback = tf.keras.callbacks.ModelCheckpoint(filepath=checkpoint_path,\n",
    "                                                     save_weights_only=True\n",
    "                                                     )"
   ]
  },
  {
   "cell_type": "markdown",
   "metadata": {},
   "source": [
    "4) Training the model\n",
    "\n",
    "I train the model for a 40 epochs with RMSprop optimizer and categorical_crossentropy loss function."
   ]
  },
  {
   "cell_type": "code",
   "execution_count": 9,
   "metadata": {},
   "outputs": [
    {
     "name": "stdout",
     "output_type": "stream",
     "text": [
      "Train on 891 samples\n",
      "Epoch 1/40\n",
      "891/891 [==============================] - 13s 15ms/sample - loss: 1.3628 - accuracy: 0.0244\n",
      "Epoch 2/40\n",
      "891/891 [==============================] - 7s 8ms/sample - loss: 1.2133 - accuracy: 0.0646\n",
      "Epoch 3/40\n",
      "891/891 [==============================] - 7s 8ms/sample - loss: 1.0523 - accuracy: 0.1056\n",
      "Epoch 4/40\n",
      "891/891 [==============================] - 5s 6ms/sample - loss: 0.9880 - accuracy: 0.1841\n",
      "Epoch 5/40\n",
      "891/891 [==============================] - 7s 8ms/sample - loss: 0.9380 - accuracy: 0.2101\n",
      "Epoch 6/40\n",
      "891/891 [==============================] - 6s 7ms/sample - loss: 0.8908 - accuracy: 0.2350\n",
      "Epoch 7/40\n",
      "891/891 [==============================] - 6s 6ms/sample - loss: 0.8475 - accuracy: 0.2674\n",
      "Epoch 8/40\n",
      "891/891 [==============================] - 7s 8ms/sample - loss: 0.8086 - accuracy: 0.2973\n",
      "Epoch 9/40\n",
      "891/891 [==============================] - 6s 7ms/sample - loss: 0.7727 - accuracy: 0.3189\n",
      "Epoch 10/40\n",
      "891/891 [==============================] - 11s 12ms/sample - loss: 0.7378 - accuracy: 0.3438\n",
      "Epoch 11/40\n",
      "891/891 [==============================] - 6s 6ms/sample - loss: 0.7023 - accuracy: 0.3688\n",
      "Epoch 12/40\n",
      "891/891 [==============================] - 7s 8ms/sample - loss: 0.6672 - accuracy: 0.3980\n",
      "Epoch 13/40\n",
      "891/891 [==============================] - 5s 6ms/sample - loss: 0.6331 - accuracy: 0.4326\n",
      "Epoch 14/40\n",
      "891/891 [==============================] - 6s 6ms/sample - loss: 0.5986 - accuracy: 0.4659\n",
      "Epoch 15/40\n",
      "891/891 [==============================] - 7s 8ms/sample - loss: 0.5674 - accuracy: 0.4988\n",
      "Epoch 16/40\n",
      "891/891 [==============================] - 6s 7ms/sample - loss: 0.5368 - accuracy: 0.5252\n",
      "Epoch 17/40\n",
      "891/891 [==============================] - 5s 6ms/sample - loss: 0.5069 - accuracy: 0.5584\n",
      "Epoch 18/40\n",
      "891/891 [==============================] - 7s 8ms/sample - loss: 0.4784 - accuracy: 0.5908\n",
      "Epoch 19/40\n",
      "891/891 [==============================] - 6s 7ms/sample - loss: 0.4520 - accuracy: 0.6228\n",
      "Epoch 20/40\n",
      "891/891 [==============================] - 10s 11ms/sample - loss: 0.4259 - accuracy: 0.6529\n",
      "Epoch 21/40\n",
      "891/891 [==============================] - 5s 6ms/sample - loss: 0.4010 - accuracy: 0.6885\n",
      "Epoch 22/40\n",
      "891/891 [==============================] - 7s 8ms/sample - loss: 0.3785 - accuracy: 0.7197\n",
      "Epoch 23/40\n",
      "891/891 [==============================] - 6s 7ms/sample - loss: 0.3560 - accuracy: 0.7496\n",
      "Epoch 24/40\n",
      "891/891 [==============================] - 5s 6ms/sample - loss: 0.3353 - accuracy: 0.7810\n",
      "Epoch 25/40\n",
      "891/891 [==============================] - 6s 6ms/sample - loss: 0.3160 - accuracy: 0.8075\n",
      "Epoch 26/40\n",
      "891/891 [==============================] - 5s 6ms/sample - loss: 0.2986 - accuracy: 0.8277\n",
      "Epoch 27/40\n",
      "891/891 [==============================] - 5s 6ms/sample - loss: 0.2814 - accuracy: 0.8521\n",
      "Epoch 28/40\n",
      "891/891 [==============================] - 6s 6ms/sample - loss: 0.2663 - accuracy: 0.8676\n",
      "Epoch 29/40\n",
      "891/891 [==============================] - 7s 8ms/sample - loss: 0.2514 - accuracy: 0.8858\n",
      "Epoch 30/40\n",
      "891/891 [==============================] - 10s 11ms/sample - loss: 0.2389 - accuracy: 0.9018\n",
      "Epoch 31/40\n",
      "891/891 [==============================] - 5s 6ms/sample - loss: 0.2268 - accuracy: 0.9154\n",
      "Epoch 32/40\n",
      "891/891 [==============================] - 7s 8ms/sample - loss: 0.2153 - accuracy: 0.9296\n",
      "Epoch 33/40\n",
      "891/891 [==============================] - 6s 6ms/sample - loss: 0.2055 - accuracy: 0.9382\n",
      "Epoch 34/40\n",
      "891/891 [==============================] - 6s 6ms/sample - loss: 0.1965 - accuracy: 0.9434\n",
      "Epoch 35/40\n",
      "891/891 [==============================] - 7s 8ms/sample - loss: 0.1881 - accuracy: 0.9529\n",
      "Epoch 36/40\n",
      "891/891 [==============================] - 5s 6ms/sample - loss: 0.1803 - accuracy: 0.9587\n",
      "Epoch 37/40\n",
      "891/891 [==============================] - 5s 6ms/sample - loss: 0.1737 - accuracy: 0.9614\n",
      "Epoch 38/40\n",
      "891/891 [==============================] - 5s 6ms/sample - loss: 0.1673 - accuracy: 0.9661\n",
      "Epoch 39/40\n",
      "891/891 [==============================] - 7s 8ms/sample - loss: 0.1619 - accuracy: 0.9667\n",
      "Epoch 40/40\n",
      "891/891 [==============================] - 7s 7ms/sample - loss: 0.1556 - accuracy: 0.9707\n"
     ]
    }
   ],
   "source": [
    "history=model.fit([e_input, d_input], d_output, batch_size=64, epochs=40, callbacks=[cp_callback])"
   ]
  },
  {
   "cell_type": "code",
   "execution_count": 19,
   "metadata": {},
   "outputs": [
    {
     "data": {
      "image/png": "[encoded data removed]",
      "text/plain": [
       "<Figure size 432x288 with 1 Axes>"
      ]
     },
     "metadata": {
      "needs_background": "light"
     },
     "output_type": "display_data"
    }
   ],
   "source": [
    "import matplotlib.pyplot as plt\n",
    "\n",
    "\n",
    "plt.plot(history.history['accuracy'],color='green')\n",
    "plt.plot(history.history['loss'],color='red')\n",
    "plt.xlabel('Epoch')\n",
    "plt.ylabel('Accuracy')\n",
    "plt.show()"
   ]
  },
  {
   "cell_type": "markdown",
   "metadata": {},
   "source": [
    "5) Defining inference models\n",
    "We create inference models which help in predicting answers.\n",
    "\n",
    "Encoder inference model : Takes the question as input and outputs LSTM states ( h and c ).\n",
    "\n",
    "Decoder inference model : Takes in 2 inputs, one are the LSTM states ( Output of encoder model ), second are the answer input seqeunces ( ones not having the <start> tag ). It will output the answers for the question which we fed to the encoder model and its state values."
   ]
  },
  {
   "cell_type": "code",
   "execution_count": 14,
   "metadata": {},
   "outputs": [],
   "source": [
    "\n",
    "def make_inference_models():\n",
    "    encoder_model = tf.keras.models.Model(encoder_inputs, encoder_states)\n",
    "\n",
    "    decoder_state_input_h = tf.keras.layers.Input(shape=(300,))\n",
    "    decoder_state_input_c = tf.keras.layers.Input(shape=(300,))\n",
    "\n",
    "    decoder_states_inputs = [decoder_state_input_h, decoder_state_input_c]\n",
    "\n",
    "    decoder_outputs, state_h, state_c = decoder_lstm(\n",
    "        decoder_embedding, initial_state=decoder_states_inputs)\n",
    "    decoder_states = [state_h, state_c]\n",
    "    decoder_outputs = decoder_dense(decoder_outputs)\n",
    "    decoder_model = tf.keras.models.Model(\n",
    "        [decoder_inputs] + decoder_states_inputs,\n",
    "        [decoder_outputs] + decoder_states)\n",
    "\n",
    "    return encoder_model, decoder_model"
   ]
  },
  {
   "cell_type": "markdown",
   "metadata": {},
   "source": [
    "6) Talking with our Chatbot\n",
    "\n",
    "First, we define a method str_to_tokens which converts str questions to Integer tokens with padding."
   ]
  },
  {
   "cell_type": "code",
   "execution_count": 15,
   "metadata": {},
   "outputs": [],
   "source": [
    "def str_to_tokens(sentence: str):\n",
    "    words = sentence.lower().split()\n",
    "    words = sentence.translate(str.maketrans(\"\", \"\", string.punctuation)).split()\n",
    "    tokens_list = list()\n",
    "\n",
    "    for word in words:\n",
    "        if word in vocab:\n",
    "            tokens_list.append(tokenizer.word_index[word])\n",
    "        elif word == \"quit\":\n",
    "            print(\"See ya!!\")\n",
    "\n",
    "        else:\n",
    "            return str_to_tokens(\"understand\")\n",
    "            # reply =  \"haha what??\"\n",
    "            # decoded_translation =\n",
    "            # decoded_translation = \"BOT :\" + ''\n",
    "            # #print(\"BOT : Can you eloborate the word {}.\".format(word))\n",
    "            break\n",
    "    return preprocessing.sequence.pad_sequences([tokens_list], maxlen=maxlen_questions, padding='post')\n"
   ]
  },
  {
   "cell_type": "markdown",
   "metadata": {},
   "source": [
    "- First, it takes a question as input and predict the state values using enc_model.\n",
    "- Then, set the state values in the decoder's LSTM.\n",
    "- Then, we generate a sequence which contains the <start> element.\n",
    "- input this sequence in the dec_model.\n",
    "- replace the <start> element with the element which was predicted by the dec_model and update the state values.\n",
    "- carry out the above steps iteratively till we hit the <end> tag or the maximum answer length."
   ]
  },
  {
   "cell_type": "code",
   "execution_count": 18,
   "metadata": {},
   "outputs": [
    {
     "name": "stdout",
     "output_type": "stream",
     "text": [
      "Enter question : hy\n",
      "BOT :  what up bro end\n",
      "Enter question : how are you\n",
      "BOT :  i am doing well end\n",
      "Enter question : what are you doing\n",
      "BOT :  i was about to sleep wait i don't sleep never mind end\n",
      "Enter question : haha\n",
      "BOT :  the sort of active life hahha end\n",
      "Enter question : what up\n",
      "BOT :  my favorite subject is chemistry end\n",
      "Enter question : who are you\n",
      "BOT :  i am a bot end\n",
      "Enter question : good\n",
      "BOT :  you are a bad end\n",
      "Enter question : who built you\n",
      "BOT :  asmit shrestha end\n",
      "Enter question : wow\n",
      "BOT :  haha end\n",
      "Enter question : i am hungry\n",
      "BOT :  go and have some food end\n"
     ]
    }
   ],
   "source": [
    "enc_model, dec_model = make_inference_models()\n",
    "\n",
    "\n",
    "for _ in range(10):\n",
    "    states_values = enc_model.predict( str_to_tokens( input( 'Enter question : ' ) ) )\n",
    "    empty_target_seq = np.zeros( ( 1 , 1 ) )\n",
    "    empty_target_seq[0, 0] = tokenizer.word_index['start']\n",
    "    stop_condition = False\n",
    "    decoded_translation ='BOT : '+ ''\n",
    "    while not stop_condition :\n",
    "        dec_outputs , h , c = dec_model.predict([ empty_target_seq ] + states_values )\n",
    "        sampled_word_index = np.argmax( dec_outputs[0, -1, :] )\n",
    "        sampled_word = None\n",
    "        for word , index in tokenizer.word_index.items() :\n",
    "            if sampled_word_index == index :\n",
    "                decoded_translation += ' {}'.format( word )\n",
    "                sampled_word = word\n",
    "        \n",
    "        if sampled_word == 'end' or len(decoded_translation.split()) > maxlen_answers:\n",
    "            stop_condition = True\n",
    "            \n",
    "        empty_target_seq = np.zeros( ( 1 , 1 ) )  \n",
    "        empty_target_seq[ 0 , 0 ] = sampled_word_index\n",
    "        states_values = [ h , c ] \n",
    "\n",
    "    print( decoded_translation )"
   ]
  },
  {
   "cell_type": "code",
   "execution_count": null,
   "metadata": {},
   "outputs": [],
   "source": []
  }
 ],
 "metadata": {
  "kernelspec": {
   "display_name": "Python 3",
   "language": "python",
   "name": "python3"
  },
  "language_info": {
   "codemirror_mode": {
    "name": "ipython",
    "version": 3
   },
   "file_extension": ".py",
   "mimetype": "text/x-python",
   "name": "python",
   "nbconvert_exporter": "python",
   "pygments_lexer": "ipython3",
   "version": "3.6.10"
  }
 },
 "nbformat": 4,
 "nbformat_minor": 4
}
